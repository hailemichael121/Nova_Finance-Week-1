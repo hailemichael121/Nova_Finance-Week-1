{
 "cells": [
  {
   "cell_type": "code",
   "execution_count": 1,
   "id": "a7e900e3-ad25-4a46-8eb0-1f7655a210ea",
   "metadata": {},
   "outputs": [
    {
     "name": "stdout",
     "output_type": "stream",
     "text": [
      "         Unnamed: 0                                           headline  \\\n",
      "1303524     1309805   Austria Will Reopen Border With Italy On Jun. 16   \n",
      "130010       130994  Tuesday's Market Minute: Stocks Pause After S&...   \n",
      "389469       391566  3 Gilead-Heavy ETFs To Watch Amid The AstraZen...   \n",
      "556655       559600  ESPAÑOL • Cannabis en Argentina, Blockchain Ur...   \n",
      "1357573     1363994                  Morning Market Stats in 5 Minutes   \n",
      "...             ...                                                ...   \n",
      "67712         68387  Charles Sizemore Radio Interview Saturday Morning   \n",
      "1432           1834                             Going Against the Herd   \n",
      "519806       522587      Update on the Luxury Sector: 2nd Quarter 2009   \n",
      "1390006     1396488      Update on the Luxury Sector: 2nd Quarter 2009   \n",
      "879310       883755                       How Treasuries and ETFs Work   \n",
      "\n",
      "                                                       url  \\\n",
      "1303524  https://www.benzinga.com/news/20/06/16213063/a...   \n",
      "130010   https://www.benzinga.com/markets/penny-stocks/...   \n",
      "389469   https://www.benzinga.com/general/biotech/20/06...   \n",
      "556655   https://www.benzinga.com/markets/cannabis/20/0...   \n",
      "1357573  https://www.benzinga.com/intraday-update/20/06...   \n",
      "...                                                    ...   \n",
      "67712    https://www.benzinga.com/11218/charles-sizemor...   \n",
      "1432     https://www.benzinga.com/charles-lewis-sizemor...   \n",
      "519806   https://www.benzinga.com/charles-lewis-sizemor...   \n",
      "1390006  https://www.benzinga.com/charles-lewis-sizemor...   \n",
      "879310   https://www.benzinga.com/28044/how-treasuries-...   \n",
      "\n",
      "                          publisher                       date stock  \n",
      "1303524           Benzinga Newsdesk  2020-06-09 10:55:42-04:00   VGK  \n",
      "130010                TD Ameritrade  2020-06-09 09:29:52-04:00    BA  \n",
      "389469                ETF Professor  2020-06-08 10:10:55-04:00   DVP  \n",
      "556655                 Javier Hasse  2020-06-05 17:19:01-04:00    GM  \n",
      "1357573           Benzinga Insights  2020-06-05 10:15:06-04:00   WMT  \n",
      "...                             ...                        ...   ...  \n",
      "67712    Charles Lewis Sizemore CFA        2009-05-22 00:00:00    AM  \n",
      "1432     Charles Lewis Sizemore CFA        2009-04-29 00:00:00     A  \n",
      "519806   Charles Lewis Sizemore CFA        2009-04-27 00:00:00    FT  \n",
      "1390006  Charles Lewis Sizemore CFA        2009-04-27 00:00:00     Y  \n",
      "879310                 Paco Ahlgren        2009-02-14 00:00:00   NAV  \n",
      "\n",
      "[6204 rows x 6 columns]\n"
     ]
    }
   ],
   "source": [
    "import pandas as pd\n",
    "\n",
    "def load_and_clean_data(data_file):\n",
    "  \"\"\"\n",
    "  Loads financial data from a CSV file and performs cleaning steps.\n",
    "\n",
    "  Args:\n",
    "      data_file (str): Path to the CSV file containing financial data.\n",
    "\n",
    "  Returns:\n",
    "      pandas.DataFrame: Cleaned DataFrame containing financial data.\n",
    "  \"\"\"\n",
    "\n",
    "  data = pd.read_csv(data_file)\n",
    "\n",
    "  # Handle missing values \n",
    "  #  Drop rows with missing values in 'stock' or 'date' columns\n",
    "  data.dropna(subset=['stock', 'date'], inplace=True)\n",
    "    \n",
    "  # Handle duplicates  \n",
    "  # Option 2: Keep only the most recent duplicate -'date' is the sorting key\n",
    "  data.sort_values(by=['date'], ascending=False, inplace=True)  # Sort by date (descending)\n",
    "  data.drop_duplicates(subset='stock', keep='last', inplace=True)  # Keep last duplicate per stock\n",
    "\n",
    "  \n",
    "\n",
    "  return data\n",
    "\n",
    "# Example usage (replace \"your_data.csv\" with your actual filename)\n",
    "financial_data = load_and_clean_data(\"../data/raw_analyst_ratings.csv\")\n",
    "print(financial_data)\n"
   ]
  },
  {
   "cell_type": "code",
   "execution_count": null,
   "id": "108f5286-81f5-4431-8bbd-47ea89c8b425",
   "metadata": {},
   "outputs": [],
   "source": []
  }
 ],
 "metadata": {
  "kernelspec": {
   "display_name": "Python 3 (ipykernel)",
   "language": "python",
   "name": "python3"
  },
  "language_info": {
   "codemirror_mode": {
    "name": "ipython",
    "version": 3
   },
   "file_extension": ".py",
   "mimetype": "text/x-python",
   "name": "python",
   "nbconvert_exporter": "python",
   "pygments_lexer": "ipython3",
   "version": "3.11.7"
  }
 },
 "nbformat": 4,
 "nbformat_minor": 5
}
