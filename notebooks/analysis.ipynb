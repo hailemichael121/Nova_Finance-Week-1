{
 "cells": [
  {
   "cell_type": "code",
   "execution_count": null,
   "metadata": {},
   "outputs": [],
   "source": [
    "import pandas as pd\n",
    "from data_prep import load_and_clean_data, normalize_dates_and_sentiment\n",
    "from sentiment_analysis import analyze_sentiment\n",
    "\n",
    "# Load news and stock data (replace placeholders with your file paths)\n",
    "news_data = load_and_clean_data(\"your_news_data.csv\")\n",
    "stock_data = load_and_clean_data(\"your_stock_data.csv\")\n",
    "\n",
    "# Normalize dates and perform sentiment analysis\n",
    "joined_data = normalize_dates_and_sentiment(news_data, stock_data)\n",
    "\n",
    "# Calculate daily returns\n",
    "stock_data['daily_return'] = stock_data['Adj Close'].pct_change() * 100\n",
    "\n",
    "# Aggregate sentiments (if multiple headlines per day)\n",
    "if len(joined_data.groupby('date')) > 1:  # Check if multiple news items per day exist\n",
    "    daily_sentiment = joined_data.groupby('date')['sentiment'].value_counts().unstack(fill_value=0)\n",
    "    daily_sentiment['average_sentiment'] = daily_sentiment.mean(axis=1)\n",
    "else:\n",
    "    daily_sentiment = joined_data[['sentiment']]\n",
    "    daily_sentiment.columns = ['average_sentiment']\n",
    "\n",
    "# Correlation calculation (using scipy.stats if not already imported)\n",
    "from scipy.stats import pearsonr\n",
    "\n",
    "correlation, p_value = pearsonr(daily_sentiment['average_sentiment'], stock_data['daily_return'])\n",
    "print(f\"Correlation Coefficient: {correlation:.4f}, p-value: {p_value:.4f}\")\n"
   ]
  }
 ],
 "metadata": {
  "language_info": {
   "name": "python"
  }
 },
 "nbformat": 4,
 "nbformat_minor": 2
}
