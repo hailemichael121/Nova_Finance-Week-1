{
 "cells": [
  {
   "cell_type": "code",
   "execution_count": 1,
   "id": "cae485ec-f1db-478b-a4f4-c7ea506857fe",
   "metadata": {},
   "outputs": [],
   "source": [
    "import yfinance as yf\n",
    "import pandas as pd\n",
    "import warnings\n",
    "warnings.filterwarnings('ignore')"
   ]
  },
  {
   "cell_type": "code",
   "execution_count": 2,
   "id": "5c8dcc9f-4f08-4503-9a07-842eb3c70f0f",
   "metadata": {},
   "outputs": [],
   "source": [
    "def load_and_clean_data(data_file):\n",
    "  \"\"\"\n",
    "  Loads financial data from a CSV file and performs cleaning steps.\n",
    "\n",
    "  Args:\n",
    "      data_file (str): Path to the CSV file containing financial data.\n",
    "\n",
    "  Returns:\n",
    "      pandas.DataFrame: Cleaned DataFrame containing financial data.\n",
    "  \"\"\"\n",
    "\n",
    "  data = pd.read_csv(data_file)\n",
    "\n",
    "  # Handle missing values \n",
    "  #  Drop rows with missing values in 'stock' or 'date' columns\n",
    "  data.dropna(subset=['stock', 'date'], inplace=True)\n",
    "    \n",
    "  # Handle duplicates  \n",
    "  # Option 2: Keep only the most recent duplicate -'date' is the sorting key\n",
    "  data.sort_values(by=['date'], ascending=False, inplace=True)  # Sort by date (descending)\n",
    "  data.drop_duplicates(subset='stock', keep='last', inplace=True)  # Keep last duplicate per stock\n",
    "\n",
    "  \n",
    "\n",
    "  return data\n",
    "\n"
   ]
  },
  {
   "cell_type": "code",
   "execution_count": 3,
   "id": "b386da6a-fe67-41c2-ba80-b1009ef9cca3",
   "metadata": {
    "scrolled": true
   },
   "outputs": [],
   "source": [
    "def fetch_stock_prices(data, output_dir=\"data\"):\n",
    "  \"\"\"\n",
    "  Fetches historical stock price data for each symbol in the provided DataFrame.\n",
    "\n",
    "  Args:\n",
    "      data (pandas.DataFrame): DataFrame containing 'stock' symbol and 'date' columns.\n",
    "      output_dir (str, optional): Directory to store downloaded stock data. Defaults to \"data\".\n",
    "  \"\"\"\n",
    "\n",
    "  grouped_data = data.groupby('stock')\n",
    "  date_ranges = grouped_data['date'].agg(min='min', max='max')\n",
    "\n",
    "  for stock, dates in date_ranges.iterrows():\n",
    "      try:\n",
    "          stock_data = yf.download(stock, start=dates['min'], end=dates['max'])\n",
    "          if stock_data.empty:  # Handle cases where no data is available\n",
    "              print(f\"No data found for stock: {stock}\")\n",
    "          else:\n",
    "              stock_data.to_csv(f\"{output_dir}/{stock}.csv\")\n",
    "      except (yf.DownloadError, ConnectionError) as e:\n",
    "          print(f\"Error downloading data for stock: {stock} - {e}\")\n",
    "\n",
    "\n"
   ]
  },
  {
   "cell_type": "code",
   "execution_count": null,
   "id": "a4e4af08-c329-4019-aabc-df28c3dc2e35",
   "metadata": {},
   "outputs": [],
   "source": [
    "# Example usage (assuming data_prep.py is executed first)\n",
    "financial_data = load_and_clean_data(\"../data/raw_analyst_ratings.csv\")\n",
    "fetch_stock_prices(financial_data)"
   ]
  },
  {
   "cell_type": "code",
   "execution_count": null,
   "id": "9550bb49-96c3-4961-a068-77d4279d7dd9",
   "metadata": {},
   "outputs": [],
   "source": []
  }
 ],
 "metadata": {
  "kernelspec": {
   "display_name": "Python 3 (ipykernel)",
   "language": "python",
   "name": "python3"
  },
  "language_info": {
   "codemirror_mode": {
    "name": "ipython",
    "version": 3
   },
   "file_extension": ".py",
   "mimetype": "text/x-python",
   "name": "python",
   "nbconvert_exporter": "python",
   "pygments_lexer": "ipython3",
   "version": "3.11.7"
  }
 },
 "nbformat": 4,
 "nbformat_minor": 5
}
